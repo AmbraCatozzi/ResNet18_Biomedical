{
 "cells": [
  {
   "cell_type": "markdown",
   "metadata": {},
   "source": [
    "# Application of ResNet18 model on Computed Tomography image dataset"
   ]
  },
  {
   "cell_type": "code",
   "execution_count": null,
   "metadata": {},
   "outputs": [],
   "source": [
    "from tqdm import tqdm\n",
    "import numpy as np\n",
    "import torch\n",
    "import torch.nn as nn\n",
    "import torch.optim as optim\n",
    "import torch.utils.data as data\n",
    "import torchvision\n",
    "import torchvision.transforms as transforms\n",
    "import matplotlib.pyplot as plt\n",
    "\n",
    "import medmnist\n",
    "from medmnist import INFO, Evaluator\n",
    "from models import ResNet18"
   ]
  },
  {
   "cell_type": "markdown",
   "metadata": {},
   "source": [
    "## MedMNIST OrganSMNIST: dataset informations and preprocess"
   ]
  },
  {
   "cell_type": "code",
   "execution_count": null,
   "metadata": {},
   "outputs": [],
   "source": [
    "data_flag = 'organsmnist'\n",
    "\n",
    "download = True\n",
    "\n",
    "NUM_EPOCHS = 50\n",
    "BATCH_SIZE = 128\n",
    "lr = 0.001\n",
    "\n",
    "info = INFO[data_flag]\n",
    "task = info['task']\n",
    "n_channels = info['n_channels']\n",
    "n_classes = len(info['label'])\n",
    "\n",
    "DataClass = getattr(medmnist, info['python_class'])"
   ]
  },
  {
   "cell_type": "code",
   "execution_count": null,
   "metadata": {},
   "outputs": [],
   "source": [
    "# Preprocessing\n",
    "data_transform = transforms.Compose([\n",
    "    transforms.ToTensor(),\n",
    "    transforms.Normalize(mean=[.5], std=[.5]) ])\n",
    "# Loading of the data and split up in to Training, Validation and Test set \n",
    "train_dataset = DataClass(split='train', transform=data_transform, download=download)\n",
    "val_dataset = DataClass(split='val', transform=data_transform, download=download)\n",
    "test_dataset = DataClass(split='test', transform=data_transform, download=download)\n",
    "# Data informations\n",
    "print(train_dataset)\n",
    "print(\"===================\")\n",
    "print(test_dataset)\n",
    "print(\"===================\")\n",
    "print(val_dataset)"
   ]
  },
  {
   "cell_type": "code",
   "execution_count": null,
   "metadata": {},
   "outputs": [],
   "source": [
    "# Subdivision of the dataset\n",
    "# Concatenation of the original sets\n",
    "full_dataset = train_dataset + val_dataset + test_dataset\n",
    "\n",
    "# New split in Training, Validation and Test set\n",
    "# Training and provisory sets\n",
    "train_size = int(0.7 * len(full_dataset))\n",
    "test_size = len(full_dataset) - train_size\n",
    "train_dataset, prov_dataset = torch.utils.data.random_split(full_dataset, [train_size, test_size])\n",
    "# Test and Validation sets\n",
    "val_size = int(0.3 * len(prov_dataset))\n",
    "test_size = len(prov_dataset) - val_size\n",
    "val_dataset, test_dataset = torch.utils.data.random_split(prov_dataset, [val_size, test_size])\n",
    "\n",
    "pil_dataset = DataClass(split='train', download=download)\n",
    "\n",
    "# Encapsulate data into dataloader form\n",
    "train_loader = data.DataLoader(dataset=train_dataset, batch_size=BATCH_SIZE, shuffle=True)\n",
    "train_loader_at_eval = data.DataLoader(dataset=train_dataset, batch_size=2*BATCH_SIZE, shuffle=False)\n",
    "\n",
    "val_loader = data.DataLoader(dataset=val_dataset, batch_size=2*BATCH_SIZE, shuffle=False) \n",
    "\n",
    "test_loader = data.DataLoader(dataset=test_dataset, batch_size=2*BATCH_SIZE, shuffle=False) "
   ]
  },
  {
   "cell_type": "code",
   "execution_count": null,
   "metadata": {},
   "outputs": [],
   "source": [
    "# Visualization of some examples\n",
    "figure = plt.figure(figsize=(10, 10))\n",
    "cols, rows = 3, 3\n",
    "for i in range(1, cols * rows + 1):\n",
    "    sample_idx = torch.randint(len(train_dataset), size=(1,)).item()\n",
    "    img, label = train_dataset[sample_idx]\n",
    "    figure.add_subplot(rows, cols, i)\n",
    "    plt.axis(\"off\")\n",
    "    plt.imshow(img.squeeze(), cmap=\"gray\")\n",
    "plt.show()"
   ]
  },
  {
   "cell_type": "markdown",
   "metadata": {},
   "source": [
    "## Model, loss function and optimizer"
   ]
  },
  {
   "cell_type": "code",
   "execution_count": null,
   "metadata": {},
   "outputs": [],
   "source": [
    "# ResNet18 architecture\n",
    "model = ResNet18(in_channels=n_channels, num_classes=n_classes).cuda()\n",
    "    \n",
    "# Define loss function and optimizer\n",
    "if task == \"multi-label, binary-class\":\n",
    "    criterion = nn.BCEWithLogitsLoss().cuda()\n",
    "else:\n",
    "    criterion = nn.CrossEntropyLoss().cuda()\n",
    "    \n",
    "optimizer = optim.SGD(model.parameters(), lr=lr, momentum=0.9)"
   ]
  },
  {
   "cell_type": "markdown",
   "metadata": {},
   "source": [
    "## Functions for the evaluation"
   ]
  },
  {
   "cell_type": "code",
   "execution_count": null,
   "metadata": {},
   "outputs": [],
   "source": [
    "def eval_train_d():\n",
    "    model.eval().cuda()\n",
    "    y_true = torch.tensor([]).cuda()\n",
    "    y_score = torch.tensor([]).cuda()\n",
    "    \n",
    "    data_loader = train_loader_at_eval\n",
    "\n",
    "    with torch.no_grad():\n",
    "        for inputs, targets in data_loader:\n",
    "            inputs = inputs.cuda()\n",
    "            targets = targets.cuda()\n",
    "            outputs = model(inputs).cuda()\n",
    "\n",
    "            if task == 'multi-label, binary-class':\n",
    "                targets = targets.to(torch.float32).cuda()\n",
    "                outputs = outputs.softmax(dim=-1).cuda()\n",
    "            else:\n",
    "                targets = targets.squeeze().long().cuda()\n",
    "                outputs = outputs.softmax(dim=-1).cuda()\n",
    "                targets = targets.float().resize_(len(targets), 1).cuda()\n",
    "\n",
    "            y_true = torch.cat((y_true, targets), 0).cuda()\n",
    "            y_score = torch.cat((y_score, outputs), 0).cuda()\n",
    "\n",
    "        y_true = y_true.cpu().numpy()\n",
    "        y_score = y_score.cpu().detach().numpy()\n",
    "        ind = np.argmax(y_score, axis = 1)\n",
    "\n",
    "        B = np.asarray(y_true).flatten()\n",
    "        acc = ( len(y_true) - len(np.nonzero(B - ind)[0] ) ) / len(y_true)\n",
    "    \n",
    "        print('Accuracy training: %.4f' % acc)\n",
    "    return acc"
   ]
  },
  {
   "cell_type": "code",
   "execution_count": null,
   "metadata": {},
   "outputs": [],
   "source": [
    "def eval_val_d():\n",
    "    model.eval().cuda()\n",
    "    y_true = torch.tensor([]).cuda()\n",
    "    y_score = torch.tensor([]).cuda()\n",
    "    \n",
    "    data_loader = val_loader\n",
    "\n",
    "    with torch.no_grad():\n",
    "        for inputs, targets in data_loader:\n",
    "            inputs = inputs.cuda()\n",
    "            targets = targets.cuda()\n",
    "            outputs = model(inputs).cuda()\n",
    "\n",
    "            if task == 'multi-label, binary-class':\n",
    "                targets = targets.to(torch.float32).cuda()\n",
    "                outputs = outputs.softmax(dim=-1).cuda()\n",
    "            else:\n",
    "                targets = targets.squeeze().long().cuda()\n",
    "                outputs = outputs.softmax(dim=-1).cuda()\n",
    "                targets = targets.float().resize_(len(targets), 1).cuda()\n",
    "\n",
    "            y_true = torch.cat((y_true, targets), 0).cuda()\n",
    "            y_score = torch.cat((y_score, outputs), 0).cuda()\n",
    "\n",
    "        y_true = y_true.cpu().numpy() # true labels\n",
    "        y_score = y_score.cpu().detach().numpy() # probability\n",
    "        ind = np.argmax(y_score, axis = 1) # index of the max probability\n",
    "        B = np.asarray(y_true).flatten()\n",
    "\n",
    "        acc = ( len(y_true) - len(np.nonzero(B - ind)[0]) )  / len(y_true)\n",
    "    \n",
    "        print('Accuracy validation: %.4f' % acc)\n",
    "    return acc"
   ]
  },
  {
   "cell_type": "code",
   "execution_count": null,
   "metadata": {},
   "outputs": [],
   "source": [
    "def eval_test_d():\n",
    "    model.eval().cuda()\n",
    "    y_true = torch.tensor([]).cuda()\n",
    "    y_score = torch.tensor([]).cuda()\n",
    "    \n",
    "    data_loader = test_loader\n",
    "\n",
    "    with torch.no_grad():\n",
    "        for inputs, targets in data_loader:\n",
    "            inputs = inputs.cuda()\n",
    "            targets = targets.cuda()\n",
    "            outputs = model(inputs).cuda()\n",
    "\n",
    "            if task == 'multi-label, binary-class':\n",
    "                targets = targets.to(torch.float32).cuda()\n",
    "                outputs = outputs.softmax(dim=-1).cuda()\n",
    "            else:\n",
    "                targets = targets.squeeze().long().cuda()\n",
    "                outputs = outputs.softmax(dim=-1).cuda()\n",
    "                targets = targets.float().resize_(len(targets), 1).cuda()\n",
    "\n",
    "            y_true = torch.cat((y_true, targets), 0).cuda()\n",
    "            y_score = torch.cat((y_score, outputs), 0).cuda()\n",
    "\n",
    "        y_true = y_true.cpu().numpy()\n",
    "        y_score = y_score.cpu().detach().numpy()\n",
    "        ind = np.argmax(y_score, axis = 1)\n",
    "\n",
    "        B = np.asarray(y_true).flatten()\n",
    "        acc = ( len(y_true) - len(np.nonzero(B - ind)[0]) ) / len(y_true)\n",
    "    \n",
    "        print('Accuracy test: %.4f' % acc)\n",
    "    return acc"
   ]
  },
  {
   "cell_type": "markdown",
   "metadata": {},
   "source": [
    "## Original ResNet18"
   ]
  },
  {
   "cell_type": "code",
   "execution_count": null,
   "metadata": {
    "scrolled": true
   },
   "outputs": [],
   "source": [
    "for epoch in range(NUM_EPOCHS):\n",
    "    print(epoch)\n",
    "    train_correct = 0\n",
    "    train_total = 0\n",
    "    test_correct = 0\n",
    "    test_total = 0\n",
    "    \n",
    "    model.train()\n",
    "    for inputs, targets in tqdm(train_loader):\n",
    "        inputs = inputs.cuda()\n",
    "        targets = targets.cuda()\n",
    "        # forward + backward + optimize\n",
    "        optimizer.zero_grad()\n",
    "        outputs = model(inputs).cuda()\n",
    "        \n",
    "        if task == 'multi-label, binary-class':\n",
    "            targets = targets.to(torch.float32).cuda()\n",
    "            loss = criterion(outputs, targets).cuda()\n",
    "        else:\n",
    "            targets = targets.squeeze().long().cuda()\n",
    "            loss = criterion(outputs, targets).cuda()\n",
    "        \n",
    "        loss.backward()\n",
    "        optimizer.step()\n",
    "        "
   ]
  },
  {
   "cell_type": "code",
   "execution_count": null,
   "metadata": {},
   "outputs": [],
   "source": [
    "# Evaluation\n",
    "print('Evaluating ...')\n",
    "eval_train_d()\n",
    "eval_val_d()\n",
    "eval_test_d()"
   ]
  },
  {
   "cell_type": "markdown",
   "metadata": {},
   "source": [
    "## Classical Early Stopping (ES)"
   ]
  },
  {
   "cell_type": "code",
   "execution_count": null,
   "metadata": {},
   "outputs": [],
   "source": [
    "acc_val_best = 0\n",
    "patience = 20\n",
    "counter = 0"
   ]
  },
  {
   "cell_type": "code",
   "execution_count": null,
   "metadata": {
    "scrolled": true
   },
   "outputs": [],
   "source": [
    "for epoch in range(NUM_EPOCHS):\n",
    "    print('Epoch number: %d'% epoch)\n",
    "    train_correct = 0\n",
    "    train_total = 0\n",
    "    test_correct = 0\n",
    "    test_total = 0\n",
    "    model.train().cuda()\n",
    "    for inputs, targets in tqdm(train_loader):\n",
    "        # forward, backward and optimize\n",
    "        optimizer.zero_grad()\n",
    "        inputs = inputs.cuda()\n",
    "        targets = targets.cuda()\n",
    "        outputs = model(inputs).cuda()\n",
    "\n",
    "        if task == 'multi-label, binary-class':\n",
    "            targets = targets.to(torch.float32).cuda()\n",
    "            loss = criterion(outputs, targets).cuda()\n",
    "        else:\n",
    "            targets = targets.squeeze().long().cuda()\n",
    "            loss = criterion(outputs, targets).cuda()\n",
    "\n",
    "        loss.backward()\n",
    "        optimizer.step()\n",
    "        \n",
    "    acc_train = eval_train_d()\n",
    "    acc_val = eval_val_d()\n",
    "    acc_test = eval_test_d()\n",
    "    \n",
    "    if acc_val > acc_val_best:\n",
    "        counter = 0\n",
    "        acc_val_best = acc_val\n",
    "        model_best = model.train().cuda() \n",
    "        print('Counter: %d \\n\\n'% counter)\n",
    "    else:\n",
    "        counter = counter + 1\n",
    "        print('Counter: %d \\n\\n'% counter)\n",
    "\n",
    "    if counter>patience:\n",
    "        break"
   ]
  },
  {
   "cell_type": "markdown",
   "metadata": {},
   "source": [
    "## Early Stopping with Learning Rate annealing (LR)"
   ]
  },
  {
   "cell_type": "code",
   "execution_count": null,
   "metadata": {},
   "outputs": [],
   "source": [
    "acc_val_best = 0\n",
    "patience = 20\n",
    "counter = 0\n",
    "lr = 0.001"
   ]
  },
  {
   "cell_type": "code",
   "execution_count": null,
   "metadata": {},
   "outputs": [],
   "source": [
    "for epoch in range(NUM_EPOCHS):\n",
    "    print('Epoch number: %d \\t'% epoch)\n",
    "    print('LR: %f'% lr)\n",
    "    train_correct = 0\n",
    "    train_total = 0\n",
    "    test_correct = 0\n",
    "    test_total = 0\n",
    "    model.train().cuda()\n",
    "    for inputs, targets in tqdm(train_loader):\n",
    "        # forward, backward and optimize\n",
    "        optimizer.zero_grad()\n",
    "        inputs = inputs.cuda()\n",
    "        targets = targets.cuda()\n",
    "        outputs = model(inputs).cuda()\n",
    "\n",
    "        if task == 'multi-label, binary-class':\n",
    "            targets = targets.to(torch.float32).cuda()\n",
    "            loss = criterion(outputs, targets).cuda()\n",
    "        else:\n",
    "            targets = targets.squeeze().long().cuda()\n",
    "            loss = criterion(outputs, targets).cuda()\n",
    "\n",
    "        loss.backward()\n",
    "        optimizer.step()\n",
    "    acc_train = eval_train_d()\n",
    "    acc_val = eval_val_d()\n",
    "    acc_test = eval_test_d()\n",
    "    \n",
    "    if acc_val > acc_val_best:\n",
    "        counter = 0\n",
    "        acc_val_best = acc_val\n",
    "        model_best = model.train().cuda() \n",
    "        print('Counter: %d \\n\\n'% counter)        \n",
    "    else:\n",
    "        counter = counter + 1\n",
    "        print('Counter: %d \\n\\n'% counter)\n",
    "        if counter == patience / 2:\n",
    "            lr = lr * 0.5\n",
    "\n",
    "    if counter>patience:\n",
    "        break"
   ]
  },
  {
   "cell_type": "markdown",
   "metadata": {},
   "source": [
    "## Early Stopping with Incremental Mini Batch size (BS)"
   ]
  },
  {
   "cell_type": "code",
   "execution_count": null,
   "metadata": {},
   "outputs": [],
   "source": [
    "acc_val_best = 0\n",
    "patience = 20\n",
    "counter = 0\n",
    "lr = 0.001\n",
    "bs = BATCH_SIZE\n",
    "batch_inc = 128"
   ]
  },
  {
   "cell_type": "code",
   "execution_count": null,
   "metadata": {},
   "outputs": [],
   "source": [
    "for epoch in range(NUM_EPOCHS):\n",
    "    print('Epoch number: %d \\t'% epoch)\n",
    "    print('Batch size: %d '% bs)\n",
    "    train_correct = 0\n",
    "    train_total = 0\n",
    "    test_correct = 0\n",
    "    test_total = 0\n",
    "    model.train().cuda()\n",
    "    for inputs, targets in tqdm(data.DataLoader(dataset=train_dataset, batch_size=bs, shuffle=True)):\n",
    "        # forward + backward + optimize\n",
    "        optimizer.zero_grad()\n",
    "        inputs = inputs.cuda()\n",
    "        targets = targets.cuda()\n",
    "        outputs = model(inputs).cuda()\n",
    "\n",
    "        if task == 'multi-label, binary-class':\n",
    "            targets = targets.to(torch.float32).cuda()\n",
    "            loss = criterion(outputs, targets).cuda()\n",
    "        else:\n",
    "            targets = targets.squeeze().long().cuda()\n",
    "            loss = criterion(outputs, targets).cuda()\n",
    "\n",
    "        loss.backward()\n",
    "        optimizer.step()\n",
    "    acc_train = eval_train_d()\n",
    "    acc_val = eval_val_d()\n",
    "    acc_test = eval_test_d()\n",
    "    \n",
    "    if acc_val > acc_val_best:\n",
    "        counter = 0\n",
    "        acc_val_best = acc_val\n",
    "        model_best = model.train().cuda() \n",
    "        print('Counter: %d \\n\\n'% counter)        \n",
    "    else:\n",
    "        counter = counter + 1\n",
    "        print('Counter: %d \\n\\n'% counter)\n",
    "        if counter == patience / 2:\n",
    "            bs = bs + batch_inc\n",
    "\n",
    "    if counter>patience:\n",
    "        break"
   ]
  },
  {
   "cell_type": "markdown",
   "metadata": {},
   "source": [
    "## Early Stopping with Alternate Learning Rate annealing (LR) and Incremental Mini Batch size (LRBS)"
   ]
  },
  {
   "cell_type": "code",
   "execution_count": null,
   "metadata": {},
   "outputs": [],
   "source": [
    "acc_val_best = 0\n",
    "patience = 20\n",
    "counter = 0\n",
    "lr = 0.001\n",
    "bs = BATCH_SIZE\n",
    "batch_inc = 128\n",
    "c2 = 0"
   ]
  },
  {
   "cell_type": "code",
   "execution_count": null,
   "metadata": {},
   "outputs": [],
   "source": [
    "for epoch in range(NUM_EPOCHS):\n",
    "    print('Epoch number: %d \\t'% epoch)\n",
    "    print('LR: %f '% lr)\n",
    "    print('Batch size: %d '% bs)\n",
    "    train_correct = 0\n",
    "    train_total = 0\n",
    "    test_correct = 0\n",
    "    test_total = 0\n",
    "    model.train().cuda()\n",
    "    for inputs, targets in tqdm(data.DataLoader(dataset=train_dataset, batch_size=bs, shuffle=True)):\n",
    "        # forward + backward + optimize\n",
    "        optimizer.zero_grad()\n",
    "        inputs = inputs.cuda()\n",
    "        targets = targets.cuda()\n",
    "        outputs = model(inputs).cuda()\n",
    "\n",
    "        if task == 'multi-label, binary-class':\n",
    "            targets = targets.to(torch.float32).cuda()\n",
    "            loss = criterion(outputs, targets).cuda()\n",
    "        else:\n",
    "            targets = targets.squeeze().long().cuda()\n",
    "            loss = criterion(outputs, targets).cuda()\n",
    "\n",
    "        loss.backward()\n",
    "        optimizer.step()\n",
    "    acc_train = eval_train_d()\n",
    "    acc_val = eval_val_d()\n",
    "    acc_test = eval_test_d()\n",
    "    \n",
    "    if acc_val > acc_val_best:\n",
    "        counter = 0\n",
    "        acc_val_best = acc_val\n",
    "        model_best = model.train().cuda() \n",
    "        print('Counter: %d \\n\\n'% counter)        \n",
    "    else:\n",
    "        counter = counter + 1\n",
    "        print('Counter: %d \\n\\n'% counter)\n",
    "        if counter == patience / 2:\n",
    "            c2 = c2 + 1\n",
    "            if c2%2 == 1:\n",
    "                lr = lr*0.5\n",
    "            else:\n",
    "                bs = bs + batch_inc\n",
    "\n",
    "    if counter>patience:\n",
    "        break"
   ]
  }
 ],
 "metadata": {
  "kernelspec": {
   "display_name": "Python 3 (ipykernel)",
   "language": "python",
   "name": "python3"
  },
  "language_info": {
   "codemirror_mode": {
    "name": "ipython",
    "version": 3
   },
   "file_extension": ".py",
   "mimetype": "text/x-python",
   "name": "python",
   "nbconvert_exporter": "python",
   "pygments_lexer": "ipython3",
   "version": "3.10.2"
  }
 },
 "nbformat": 4,
 "nbformat_minor": 4
}
